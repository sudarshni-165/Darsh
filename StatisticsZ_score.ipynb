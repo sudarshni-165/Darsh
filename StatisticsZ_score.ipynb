{
  "nbformat": 4,
  "nbformat_minor": 0,
  "metadata": {
    "colab": {
      "provenance": [],
      "authorship_tag": "ABX9TyO752+HCzwnLodu5pJHSG0C",
      "include_colab_link": true
    },
    "kernelspec": {
      "name": "python3",
      "display_name": "Python 3"
    },
    "language_info": {
      "name": "python"
    }
  },
  "cells": [
    {
      "cell_type": "markdown",
      "metadata": {
        "id": "view-in-github",
        "colab_type": "text"
      },
      "source": [
        "<a href=\"https://colab.research.google.com/github/sudarshni-165/Darsh/blob/main/StatisticsZ_score.ipynb\" target=\"_parent\"><img src=\"https://colab.research.google.com/assets/colab-badge.svg\" alt=\"Open In Colab\"/></a>"
      ]
    },
    {
      "cell_type": "code",
      "execution_count": 1,
      "metadata": {
        "id": "OE3UbPfBp0JM"
      },
      "outputs": [],
      "source": [
        "import numpy as np\n",
        "import matplotlib.pyplot as plt\n",
        "%matplotlib inline"
      ]
    },
    {
      "cell_type": "code",
      "source": [
        "dataset = [11,10,12,14,15,14,13,15,102,12,14,17,19,107,10,13,12,14,12,108,12,11,108,14,13,15,17,18,10,15,10]\n"
      ],
      "metadata": {
        "id": "k1DZJiLvp7il"
      },
      "execution_count": 2,
      "outputs": []
    },
    {
      "cell_type": "code",
      "source": [
        "plt.hist(dataset)"
      ],
      "metadata": {
        "colab": {
          "base_uri": "https://localhost:8080/",
          "height": 501
        },
        "id": "IqJ6zw9-p7lY",
        "outputId": "e45fc2bb-6bd5-483c-c54c-2924b283eda2"
      },
      "execution_count": 3,
      "outputs": [
        {
          "output_type": "execute_result",
          "data": {
            "text/plain": [
              "(array([27.,  0.,  0.,  0.,  0.,  0.,  0.,  0.,  0.,  4.]),\n",
              " array([ 10. ,  19.8,  29.6,  39.4,  49.2,  59. ,  68.8,  78.6,  88.4,\n",
              "         98.2, 108. ]),\n",
              " <BarContainer object of 10 artists>)"
            ]
          },
          "metadata": {},
          "execution_count": 3
        },
        {
          "output_type": "display_data",
          "data": {
            "text/plain": [
              "<Figure size 640x480 with 1 Axes>"
            ],
            "image/png": "[encoded data removed]"
          },
          "metadata": {}
        }
      ]
    },
    {
      "cell_type": "code",
      "source": [
        "#z_score\n",
        "\n",
        "def find_outliers(dataset):\n",
        "    outliers = []\n",
        "    threshold = 2  #defines the third std\n",
        "    mean = np.mean(dataset)\n",
        "    std = np.std(dataset)\n",
        "\n",
        "    for i in dataset:\n",
        "      z_score = (i - mean) / std\n",
        "      if np.abs(z_score) > threshold:\n",
        "        outliers.append(i)\n",
        "    return outliers\n",
        ""
      ],
      "metadata": {
        "id": "FeA6HD1tp7oP"
      },
      "execution_count": 5,
      "outputs": []
    },
    {
      "cell_type": "code",
      "source": [
        "outliers = find_outliers(dataset)\n",
        "print(outliers)"
      ],
      "metadata": {
        "colab": {
          "base_uri": "https://localhost:8080/"
        },
        "id": "kbMi_FGrp7wn",
        "outputId": "14c58e25-bfea-412c-af7a-8c445472be77"
      },
      "execution_count": 6,
      "outputs": [
        {
          "output_type": "stream",
          "name": "stdout",
          "text": [
            "[102, 107, 108, 108]\n"
          ]
        }
      ]
    }
  ]
}